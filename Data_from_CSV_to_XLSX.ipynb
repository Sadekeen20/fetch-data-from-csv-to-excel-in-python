{
  "nbformat": 4,
  "nbformat_minor": 0,
  "metadata": {
    "colab": {
      "name": "Data from CSV to XLSX.ipynb",
      "provenance": [],
      "collapsed_sections": [],
      "authorship_tag": "ABX9TyPo3emC5pczEq++wvvJYVG+",
      "include_colab_link": true
    },
    "kernelspec": {
      "name": "python3",
      "display_name": "Python 3"
    },
    "language_info": {
      "name": "python"
    }
  },
  "cells": [
    {
      "cell_type": "markdown",
      "metadata": {
        "id": "view-in-github",
        "colab_type": "text"
      },
      "source": [
        "<a href=\"https://colab.research.google.com/github/Sadekeen20/fetch-data-from-csv-to-excel-in-python/blob/main/Data_from_CSV_to_XLSX.ipynb\" target=\"_parent\"><img src=\"https://colab.research.google.com/assets/colab-badge.svg\" alt=\"Open In Colab\"/></a>"
      ]
    },
    {
      "cell_type": "markdown",
      "metadata": {
        "id": "0pyI2OCyhMaM"
      },
      "source": [
        "Directly Put to Excel from Dataframe !\n",
        "Date: 10 oct 2021"
      ]
    },
    {
      "cell_type": "code",
      "metadata": {
        "colab": {
          "base_uri": "https://localhost:8080/"
        },
        "id": "Rgpn3kcAhMaN",
        "outputId": "64b8b55a-b658-4357-e1e1-ccc9c99f7ff5"
      },
      "source": [
        "\n",
        "# df = pd.read_csv(\"personal data.csv\")\n",
        "# x=df.columns\n",
        "import pandas as pd\n",
        "import openpyxl\n",
        "! wget https://raw.githubusercontent.com/Sadekeen20/fetch-data-from-csv-to-excel-in-python/main/personal%20data.csv\n",
        "df = pd.read_csv(\"personal data.csv\")\n",
        "\n",
        "df.to_excel('personal_data.xlsx', sheet_name='new_sheet_name')\n"
      ],
      "execution_count": null,
      "outputs": [
        {
          "output_type": "stream",
          "name": "stdout",
          "text": [
            "--2021-10-10 09:31:15--  https://raw.githubusercontent.com/Sadekeen20/fetch-data-from-csv-to-excel-in-python/main/personal%20data.csv\n",
            "Resolving raw.githubusercontent.com (raw.githubusercontent.com)... 185.199.111.133, 185.199.109.133, 185.199.108.133, ...\n",
            "Connecting to raw.githubusercontent.com (raw.githubusercontent.com)|185.199.111.133|:443... connected.\n",
            "HTTP request sent, awaiting response... 200 OK\n",
            "Length: 227 [text/plain]\n",
            "Saving to: ‘personal data.csv.2’\n",
            "\n",
            "\rpersonal data.csv.2   0%[                    ]       0  --.-KB/s               \rpersonal data.csv.2 100%[===================>]     227  --.-KB/s    in 0s      \n",
            "\n",
            "2021-10-10 09:31:15 (16.5 MB/s) - ‘personal data.csv.2’ saved [227/227]\n",
            "\n"
          ]
        }
      ]
    },
    {
      "cell_type": "markdown",
      "metadata": {
        "id": "DAAKXrcIhMaO"
      },
      "source": [
        "Df to Workbook"
      ]
    },
    {
      "cell_type": "code",
      "metadata": {
        "id": "WT8sYBYIhMaP"
      },
      "source": [
        "# try 1- copy - successful \n",
        "# dataframe to worksheet\n",
        "# https://openpyxl.readthedocs.io/en/stable/tutorial.html #src\n",
        "from openpyxl import Workbook\n",
        "from openpyxl.utils.dataframe import dataframe_to_rows\n",
        "\n",
        "df = pd.read_csv(\"personal data.csv\")\n",
        "\n",
        "wb = Workbook()\n",
        "ws = wb.active\n",
        "\n",
        "for r in dataframe_to_rows(df, index=False, header=True):\n",
        "    ws.append(r)\n",
        "\n",
        "for cell in ws['A'] + ws[1]:\n",
        "    cell.style = 'Pandas'\n",
        "\n",
        "wb.save(\"pandas_openpyxl.xlsx\")"
      ],
      "execution_count": null,
      "outputs": []
    },
    {
      "cell_type": "markdown",
      "metadata": {
        "id": "tWX4Dq7nhMaJ"
      },
      "source": [
        "workbook to df\n"
      ]
    },
    {
      "cell_type": "code",
      "metadata": {
        "colab": {
          "base_uri": "https://localhost:8080/",
          "height": 202
        },
        "id": "6xdY2p6nhMaL",
        "outputId": "1fd507b3-1176-445c-87c0-d5519ca1187d"
      },
      "source": [
        "#read from worksheet to dataframe\n",
        "import pandas as pd\n",
        "import numpy as np\n",
        "\n",
        "from openpyxl import load_workbook\n",
        "wb = load_workbook(filename = 'personal_data.xlsx')\n",
        "#wb = Workbook(\"personal_data.xlsx\")\n",
        "ws = wb.active\n",
        "\n",
        "from itertools import islice\n",
        "data = ws.values\n",
        "\n",
        "cols = next(data)[1:]\n",
        "data = list(data)\n",
        "idx = [r[0] for r in data]\n",
        "data = (islice(r, 1, None) for r in data)\n",
        "df1 = pd.DataFrame(data, index=idx, columns=cols)\n",
        "df1.head()"
      ],
      "execution_count": null,
      "outputs": [
        {
          "output_type": "execute_result",
          "data": {
            "text/html": [
              "<div>\n",
              "<style scoped>\n",
              "    .dataframe tbody tr th:only-of-type {\n",
              "        vertical-align: middle;\n",
              "    }\n",
              "\n",
              "    .dataframe tbody tr th {\n",
              "        vertical-align: top;\n",
              "    }\n",
              "\n",
              "    .dataframe thead th {\n",
              "        text-align: right;\n",
              "    }\n",
              "</style>\n",
              "<table border=\"1\" class=\"dataframe\">\n",
              "  <thead>\n",
              "    <tr style=\"text-align: right;\">\n",
              "      <th></th>\n",
              "      <th>Roll</th>\n",
              "      <th>Age</th>\n",
              "      <th>DOB</th>\n",
              "      <th>CGPA</th>\n",
              "    </tr>\n",
              "  </thead>\n",
              "  <tbody>\n",
              "    <tr>\n",
              "      <th>0</th>\n",
              "      <td>1</td>\n",
              "      <td>17</td>\n",
              "      <td>3/14/2004</td>\n",
              "      <td>3.60</td>\n",
              "    </tr>\n",
              "    <tr>\n",
              "      <th>1</th>\n",
              "      <td>2</td>\n",
              "      <td>18</td>\n",
              "      <td>3/15/2003</td>\n",
              "      <td>3.50</td>\n",
              "    </tr>\n",
              "    <tr>\n",
              "      <th>2</th>\n",
              "      <td>3</td>\n",
              "      <td>18</td>\n",
              "      <td>3/16/2003</td>\n",
              "      <td>3.61</td>\n",
              "    </tr>\n",
              "    <tr>\n",
              "      <th>3</th>\n",
              "      <td>4</td>\n",
              "      <td>18</td>\n",
              "      <td>3/17/2003</td>\n",
              "      <td>3.62</td>\n",
              "    </tr>\n",
              "    <tr>\n",
              "      <th>4</th>\n",
              "      <td>5</td>\n",
              "      <td>18</td>\n",
              "      <td>3/18/2003</td>\n",
              "      <td>3.63</td>\n",
              "    </tr>\n",
              "  </tbody>\n",
              "</table>\n",
              "</div>"
            ],
            "text/plain": [
              "   Roll  Age        DOB  CGPA\n",
              "0     1   17  3/14/2004  3.60\n",
              "1     2   18  3/15/2003  3.50\n",
              "2     3   18  3/16/2003  3.61\n",
              "3     4   18  3/17/2003  3.62\n",
              "4     5   18  3/18/2003  3.63"
            ]
          },
          "metadata": {},
          "execution_count": 5
        }
      ]
    },
    {
      "cell_type": "markdown",
      "metadata": {
        "id": "niUUPch_OrGC"
      },
      "source": [
        "Update data in Excel with Formula (fetched from txt) : Date: 12 oct 2021"
      ]
    },
    {
      "cell_type": "code",
      "metadata": {
        "colab": {
          "base_uri": "https://localhost:8080/"
        },
        "id": "-79727oaz-Fk",
        "outputId": "486f799f-5f24-4513-be4c-ffe385dcf34e"
      },
      "source": [
        "# Step 1\n",
        "import pandas as pd\n",
        "\n",
        "!wget https://raw.githubusercontent.com/Sadekeen20/fetch-data-from-csv-to-excel-in-python/main/Test%20Data.txt\n",
        "\n",
        "#link to the xlsx file : have to download manually \n",
        "# https://github.com/Sadekeen20/fetch-data-from-csv-to-excel-in-python/blob/main/Test.xlsx\n",
        "\n",
        "x=[]\n",
        "with open(\"Test Data.txt\", \"r\") as filestream:\n",
        "        for line in filestream:\n",
        "            line=line.strip() # remove \\n ; https://www.delftstack.com/howto/python/python-remove-newline-from-string/\n",
        "            currentline = line.rsplit(\",\",-1)\n",
        "            x.append(currentline)\n",
        "            \n",
        "currentline # provides the last line or if can utilize , any line        \n",
        "#x # the complete word list in list type file; can access with x[1][0]->'Voice'"
      ],
      "execution_count": 120,
      "outputs": [
        {
          "output_type": "stream",
          "name": "stdout",
          "text": [
            "--2021-10-12 11:30:36--  https://raw.githubusercontent.com/Sadekeen20/fetch-data-from-csv-to-excel-in-python/main/Test%20Data.txt\n",
            "Resolving raw.githubusercontent.com (raw.githubusercontent.com)... 185.199.108.133, 185.199.109.133, 185.199.110.133, ...\n",
            "Connecting to raw.githubusercontent.com (raw.githubusercontent.com)|185.199.108.133|:443... connected.\n",
            "HTTP request sent, awaiting response... 200 OK\n",
            "Length: 165 [text/plain]\n",
            "Saving to: ‘Test Data.txt.1’\n",
            "\n",
            "\rTest Data.txt.1       0%[                    ]       0  --.-KB/s               \rTest Data.txt.1     100%[===================>]     165  --.-KB/s    in 0s      \n",
            "\n",
            "2021-10-12 11:30:36 (1.76 MB/s) - ‘Test Data.txt.1’ saved [165/165]\n",
            "\n"
          ]
        },
        {
          "output_type": "execute_result",
          "data": {
            "text/plain": [
              "['Data', 'Loss Amount', '5000', '0', '10000']"
            ]
          },
          "metadata": {},
          "execution_count": 120
        }
      ]
    },
    {
      "cell_type": "code",
      "metadata": {
        "colab": {
          "base_uri": "https://localhost:8080/"
        },
        "id": "TNw-pMB3FLZI",
        "outputId": "b13110d5-8abd-4c3e-b6ae-3bda0595e049"
      },
      "source": [
        "# Step 2\n",
        "\n",
        "#https://www.geeksforgeeks.org/change-value-in-excel-using-python/ \n",
        "#https://openpyxl.readthedocs.io/en/stable/formatting.html\n",
        "from openpyxl import load_workbook\n",
        "from openpyxl.formatting import Rule\n",
        "from openpyxl.styles import Font, PatternFill, Border\n",
        "from openpyxl.styles.differential import DifferentialStyle\n",
        "from openpyxl.formatting.rule import ColorScale, FormatObject\n",
        "\n",
        "#load excel file\n",
        "workbook = load_workbook(filename=\"Test.xlsx\",data_only = 'True')\n",
        "#open workbook\n",
        "sheet = workbook.active\n",
        " \n",
        "#modify the desired cell\n",
        "\n",
        "sheet[\"F5\"].value = float(x[0][2])\n",
        "\n",
        "sheet[\"G5\"] = float(x[0][3])\n",
        "sheet[\"I5\"] = float(x[0][4])\n",
        "\n",
        "sheet[\"F6\"] = float(x[1][2])\n",
        "sheet[\"G6\"] = float(x[1][3])\n",
        "sheet[\"I6\"] = float(x[1][4])\n",
        "\n",
        "sheet[\"F8\"] = float(x[2][2])\n",
        "sheet[\"G8\"] = float(x[2][3])\n",
        "sheet[\"I8\"] = float(x[2][4])\n",
        "\n",
        "sheet[\"F9\"] = float(x[3][2])\n",
        "sheet[\"G9\"] = float(x[3][3])\n",
        "sheet[\"I9\"] = float(x[3][4])\n",
        "\n",
        "\n",
        "\n",
        "from openpyxl.formatting.rule import IconSet, FormatObject\n",
        "first = FormatObject(type='formula', val=0)\n",
        "second = FormatObject(type='formula', val='$L$5')\n",
        "third= FormatObject(type='formula', val='$L$5+100%')\n",
        "iconset = IconSet(iconSet='3TrafficLights1', cfvo=[first,second,third], showValue=None, percent=None, reverse=True)\n",
        "# assign the icon set to a rule\n",
        "from openpyxl.formatting.rule import Rule\n",
        "rule = Rule(type='iconSet', iconSet=iconset)\n",
        "\n",
        "\n",
        "\n",
        "sheet.conditional_formatting.add('F5:I5', rule)\n",
        "\n",
        "first2 = FormatObject(type='formula', val=0)\n",
        "second2 = FormatObject(type='formula', val='L$8')\n",
        "third2 = FormatObject(type='formula', val='L$8+100%')\n",
        "iconset2 = IconSet(iconSet='3TrafficLights1', cfvo=[first2,second2,third2], showValue=None, percent=None, reverse=True)\n",
        "rule2 = Rule(type='iconSet', iconSet=iconset2)\n",
        "sheet.conditional_formatting.add('F8:I8', rule2)\n",
        "\n",
        "#save the file\n",
        "workbook.save(filename=\"Test1.xlsx\")"
      ],
      "execution_count": 121,
      "outputs": [
        {
          "output_type": "stream",
          "name": "stderr",
          "text": [
            "/usr/local/lib/python3.7/dist-packages/openpyxl/worksheet/header_footer.py:49: UserWarning: Cannot parse header or footer so it will be ignored\n",
            "  warn(\"\"\"Cannot parse header or footer so it will be ignored\"\"\")\n",
            "/usr/local/lib/python3.7/dist-packages/openpyxl/reader/worksheet.py:322: UserWarning: Conditional Formatting extension is not supported and will be removed\n",
            "  warn(msg)\n"
          ]
        }
      ]
    }
  ]
}