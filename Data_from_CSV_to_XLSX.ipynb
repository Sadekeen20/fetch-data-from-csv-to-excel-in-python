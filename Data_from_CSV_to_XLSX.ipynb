{
  "nbformat": 4,
  "nbformat_minor": 0,
  "metadata": {
    "colab": {
      "name": "Data from CSV to XLSX.ipynb",
      "provenance": [],
      "collapsed_sections": [],
      "authorship_tag": "ABX9TyO9rmlM6S1Q4chptAgRyAwq",
      "include_colab_link": true
    },
    "kernelspec": {
      "name": "python3",
      "display_name": "Python 3"
    },
    "language_info": {
      "name": "python"
    }
  },
  "cells": [
    {
      "cell_type": "markdown",
      "metadata": {
        "id": "view-in-github",
        "colab_type": "text"
      },
      "source": [
        "<a href=\"https://colab.research.google.com/github/Sadekeen20/fetch-data-from-csv-to-excel-in-python/blob/main/Data_from_CSV_to_XLSX.ipynb\" target=\"_parent\"><img src=\"https://colab.research.google.com/assets/colab-badge.svg\" alt=\"Open In Colab\"/></a>"
      ]
    },
    {
      "cell_type": "markdown",
      "metadata": {
        "id": "0pyI2OCyhMaM"
      },
      "source": [
        "Directly Put to Excel from Dataframe !\n"
      ]
    },
    {
      "cell_type": "code",
      "metadata": {
        "colab": {
          "base_uri": "https://localhost:8080/"
        },
        "id": "Rgpn3kcAhMaN",
        "outputId": "64b8b55a-b658-4357-e1e1-ccc9c99f7ff5"
      },
      "source": [
        "\n",
        "# df = pd.read_csv(\"personal data.csv\")\n",
        "# x=df.columns\n",
        "import pandas as pd\n",
        "import openpyxl\n",
        "! wget https://raw.githubusercontent.com/Sadekeen20/fetch-data-from-csv-to-excel-in-python/main/personal%20data.csv\n",
        "df = pd.read_csv(\"personal data.csv\")\n",
        "\n",
        "df.to_excel('personal_data.xlsx', sheet_name='new_sheet_name')\n"
      ],
      "execution_count": 3,
      "outputs": [
        {
          "output_type": "stream",
          "name": "stdout",
          "text": [
            "--2021-10-10 09:31:15--  https://raw.githubusercontent.com/Sadekeen20/fetch-data-from-csv-to-excel-in-python/main/personal%20data.csv\n",
            "Resolving raw.githubusercontent.com (raw.githubusercontent.com)... 185.199.111.133, 185.199.109.133, 185.199.108.133, ...\n",
            "Connecting to raw.githubusercontent.com (raw.githubusercontent.com)|185.199.111.133|:443... connected.\n",
            "HTTP request sent, awaiting response... 200 OK\n",
            "Length: 227 [text/plain]\n",
            "Saving to: ‘personal data.csv.2’\n",
            "\n",
            "\rpersonal data.csv.2   0%[                    ]       0  --.-KB/s               \rpersonal data.csv.2 100%[===================>]     227  --.-KB/s    in 0s      \n",
            "\n",
            "2021-10-10 09:31:15 (16.5 MB/s) - ‘personal data.csv.2’ saved [227/227]\n",
            "\n"
          ]
        }
      ]
    },
    {
      "cell_type": "markdown",
      "metadata": {
        "id": "DAAKXrcIhMaO"
      },
      "source": [
        "Df to Workbook"
      ]
    },
    {
      "cell_type": "code",
      "metadata": {
        "id": "WT8sYBYIhMaP"
      },
      "source": [
        "# try 1- copy - successful \n",
        "# dataframe to worksheet\n",
        "# https://openpyxl.readthedocs.io/en/stable/tutorial.html #src\n",
        "from openpyxl import Workbook\n",
        "from openpyxl.utils.dataframe import dataframe_to_rows\n",
        "\n",
        "df = pd.read_csv(\"personal data.csv\")\n",
        "\n",
        "wb = Workbook()\n",
        "ws = wb.active\n",
        "\n",
        "for r in dataframe_to_rows(df, index=False, header=True):\n",
        "    ws.append(r)\n",
        "\n",
        "for cell in ws['A'] + ws[1]:\n",
        "    cell.style = 'Pandas'\n",
        "\n",
        "wb.save(\"pandas_openpyxl.xlsx\")"
      ],
      "execution_count": 4,
      "outputs": []
    },
    {
      "cell_type": "markdown",
      "metadata": {
        "id": "tWX4Dq7nhMaJ"
      },
      "source": [
        "workbook to df\n"
      ]
    },
    {
      "cell_type": "code",
      "metadata": {
        "colab": {
          "base_uri": "https://localhost:8080/",
          "height": 202
        },
        "id": "6xdY2p6nhMaL",
        "outputId": "1fd507b3-1176-445c-87c0-d5519ca1187d"
      },
      "source": [
        "#read from worksheet to dataframe\n",
        "import pandas as pd\n",
        "import numpy as np\n",
        "\n",
        "from openpyxl import load_workbook\n",
        "wb = load_workbook(filename = 'personal_data.xlsx')\n",
        "#wb = Workbook(\"personal_data.xlsx\")\n",
        "ws = wb.active\n",
        "\n",
        "from itertools import islice\n",
        "data = ws.values\n",
        "\n",
        "cols = next(data)[1:]\n",
        "data = list(data)\n",
        "idx = [r[0] for r in data]\n",
        "data = (islice(r, 1, None) for r in data)\n",
        "df1 = pd.DataFrame(data, index=idx, columns=cols)\n",
        "df1.head()"
      ],
      "execution_count": 5,
      "outputs": [
        {
          "output_type": "execute_result",
          "data": {
            "text/html": [
              "<div>\n",
              "<style scoped>\n",
              "    .dataframe tbody tr th:only-of-type {\n",
              "        vertical-align: middle;\n",
              "    }\n",
              "\n",
              "    .dataframe tbody tr th {\n",
              "        vertical-align: top;\n",
              "    }\n",
              "\n",
              "    .dataframe thead th {\n",
              "        text-align: right;\n",
              "    }\n",
              "</style>\n",
              "<table border=\"1\" class=\"dataframe\">\n",
              "  <thead>\n",
              "    <tr style=\"text-align: right;\">\n",
              "      <th></th>\n",
              "      <th>Roll</th>\n",
              "      <th>Age</th>\n",
              "      <th>DOB</th>\n",
              "      <th>CGPA</th>\n",
              "    </tr>\n",
              "  </thead>\n",
              "  <tbody>\n",
              "    <tr>\n",
              "      <th>0</th>\n",
              "      <td>1</td>\n",
              "      <td>17</td>\n",
              "      <td>3/14/2004</td>\n",
              "      <td>3.60</td>\n",
              "    </tr>\n",
              "    <tr>\n",
              "      <th>1</th>\n",
              "      <td>2</td>\n",
              "      <td>18</td>\n",
              "      <td>3/15/2003</td>\n",
              "      <td>3.50</td>\n",
              "    </tr>\n",
              "    <tr>\n",
              "      <th>2</th>\n",
              "      <td>3</td>\n",
              "      <td>18</td>\n",
              "      <td>3/16/2003</td>\n",
              "      <td>3.61</td>\n",
              "    </tr>\n",
              "    <tr>\n",
              "      <th>3</th>\n",
              "      <td>4</td>\n",
              "      <td>18</td>\n",
              "      <td>3/17/2003</td>\n",
              "      <td>3.62</td>\n",
              "    </tr>\n",
              "    <tr>\n",
              "      <th>4</th>\n",
              "      <td>5</td>\n",
              "      <td>18</td>\n",
              "      <td>3/18/2003</td>\n",
              "      <td>3.63</td>\n",
              "    </tr>\n",
              "  </tbody>\n",
              "</table>\n",
              "</div>"
            ],
            "text/plain": [
              "   Roll  Age        DOB  CGPA\n",
              "0     1   17  3/14/2004  3.60\n",
              "1     2   18  3/15/2003  3.50\n",
              "2     3   18  3/16/2003  3.61\n",
              "3     4   18  3/17/2003  3.62\n",
              "4     5   18  3/18/2003  3.63"
            ]
          },
          "metadata": {},
          "execution_count": 5
        }
      ]
    }
  ]
}